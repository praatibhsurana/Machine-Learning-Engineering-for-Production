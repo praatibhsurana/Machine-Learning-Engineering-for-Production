{
 "cells": [
  {
   "cell_type": "markdown",
   "metadata": {
    "id": "2V_OLlgtQ0DW"
   },
   "source": [
    "# Ungraded Lab: TFDV Exercise\n",
    "\n",
    "\n",
    "In this notebook, you will get to practice using [TensorFlow Data Validation (TFDV)](https://cloud.google.com/solutions/machine-learning/analyzing-and-validating-data-at-scale-for-ml-using-tfx), an open-source Python package from the [TensorFlow Extended (TFX)](https://www.tensorflow.org/tfx) ecosystem. \n",
    "\n",
    "TFDV helps to understand, validate, and monitor production machine learning data at scale. It provides insight into some key questions in the data analysis process such as:\n",
    "\n",
    "* What are the underlying statistics of my data?\n",
    "\n",
    "* What does my training dataset look like?\n",
    "\n",
    "* How does my evaluation and serving datasets compare to the training dataset?\n",
    "\n",
    "* How can I find and fix data anomalies?\n",
    "\n",
    "The figure below summarizes the usual TFDV workflow:\n",
    "\n",
    "<img src='img/tfdv.png' alt='picture of tfdv workflow'>\n",
    "\n",
    "As shown, you can use TFDV to compute descriptive statistics of the training data and generate a schema. You can then validate new datasets (e.g. the serving dataset from your customers) against this schema to detect and fix anomalies. This helps prevent the different types of skew. That way, you can be confident that your model is training on or predicting data that is consistent with the expected feature types and distribution.\n",
    "\n",
    "This ungraded exercise demonstrates useful functions of TFDV at an introductory level as preparation for this week's graded programming exercise. Specifically, you will:\n",
    "\n",
    "- **Generate and visualize statistics from a dataset**\n",
    "- **Detect and fix anomalies in an evaluation dataset**\n",
    "\n",
    "Let's begin!"
   ]
  },
  {
   "cell_type": "markdown",
   "metadata": {
    "id": "lyGr4CC8AUfu"
   },
   "source": [
    "## Package Installation and Imports"
   ]
  },
  {
   "cell_type": "code",
   "execution_count": 1,
   "metadata": {
    "id": "GHi-tkOeBOis"
   },
   "outputs": [
    {
     "name": "stdout",
     "output_type": "stream",
     "text": [
      "TFDV Version: 0.24.1\n",
      "Tensorflow Version: 2.3.1\n"
     ]
    }
   ],
   "source": [
    "import tensorflow as tf\n",
    "import tensorflow_data_validation as tfdv\n",
    "import pandas as pd\n",
    "\n",
    "from sklearn.model_selection import train_test_split\n",
    "from util import add_extra_rows\n",
    "\n",
    "from tensorflow_metadata.proto.v0 import schema_pb2\n",
    "\n",
    "print('TFDV Version: {}'.format(tfdv.__version__))\n",
    "print('Tensorflow Version: {}'.format(tf.__version__))"
   ]
  },
  {
   "cell_type": "markdown",
   "metadata": {
    "id": "Kzt9rO9eAGF-"
   },
   "source": [
    "## Download the dataset\n",
    "\n",
    "You will be working with the [Census Income Dataset](http://archive.ics.uci.edu/ml/datasets/Census+Income), a dataset that can be used to predict if an individual earns more than or less than 50k US Dollars annually. The summary of attribute names with descriptions/expected values is shown below and you can read more about it [in this data description file.](https://archive.ics.uci.edu/ml/machine-learning-databases/adult/adult.names)\n",
    "\n",
    "\n",
    "* **age**: continuous.\n",
    "* **workclass**: Private, Self-emp-not-inc, Self-emp-inc, Federal-gov, Local-gov, State-gov, Without-pay, Never-worked.\n",
    "* **fnlwgt**: continuous.\n",
    "* **education**: Bachelors, Some-college, 11th, HS-grad, Prof-school, Assoc-acdm, Assoc-voc, 9th, 7th-8th, 12th, Masters, 1st-4th, 10th, Doctorate, 5th-6th, Preschool.\n",
    "* **education-num**: continuous.\n",
    "* **marital-status**: Married-civ-spouse, Divorced, Never-married, Separated, Widowed, Married-spouse-absent, Married-AF-spouse.\n",
    "* **occupation**: Tech-support, Craft-repair, Other-service, Sales, Exec-managerial, Prof-specialty, Handlers-cleaners, Machine-op-inspct, Adm-clerical, Farming-fishing, Transport-moving, Priv-house-serv, Protective-serv, Armed-Forces.\n",
    "* **relationship**: Wife, Own-child, Husband, Not-in-family, Other-relative, Unmarried.\n",
    "* **race**: White, Asian-Pac-Islander, Amer-Indian-Eskimo, Other, Black.\n",
    "* **sex**: Female, Male.\n",
    "* **capital-gain**: continuous.\n",
    "* **capital-loss**: continuous.\n",
    "* **hours-per-week**: continuous.\n",
    "* **native-country**: United-States, Cambodia, England, Puerto-Rico, Canada, Germany, Outlying-US(Guam-USVI-etc), India, Japan, Greece, South, China, Cuba, Iran, Honduras, Philippines, Italy, Poland, Jamaica, Vietnam, Mexico, Portugal, Ireland, France, Dominican-Republic, Laos, Ecuador, Taiwan, Haiti, Columbia, Hungary, Guatemala, Nicaragua, Scotland, Thailand, Yugoslavia, El-Salvador, Trinadad&Tobago, Peru, Hong, Holand-Netherlands.\n",
    "\n",
    "Let's load the dataset and split it into training and evaluation sets. We will not shuffle them for consistent results in this demo notebook but you should otherwise in real projects."
   ]
  },
  {
   "cell_type": "code",
   "execution_count": 2,
   "metadata": {
    "id": "WKTfuT2rga-_"
   },
   "outputs": [],
   "source": [
    "# Read in the training and evaluation datasets\n",
    "df = pd.read_csv('data/adult.data', skipinitialspace=True)\n",
    "\n",
    "# Split the dataset. Do not shuffle for this demo notebook.\n",
    "train_df, eval_df = train_test_split(df, test_size=0.2, shuffle=False)"
   ]
  },
  {
   "cell_type": "markdown",
   "metadata": {
    "id": "0RQvgiMRq0pn"
   },
   "source": [
    "Let's see the first few columns of the train and eval sets."
   ]
  },
  {
   "cell_type": "code",
   "execution_count": 3,
   "metadata": {
    "id": "uxDFD6dR0PYH"
   },
   "outputs": [
    {
     "data": {
      "text/html": [
       "<div>\n",
       "<style scoped>\n",
       "    .dataframe tbody tr th:only-of-type {\n",
       "        vertical-align: middle;\n",
       "    }\n",
       "\n",
       "    .dataframe tbody tr th {\n",
       "        vertical-align: top;\n",
       "    }\n",
       "\n",
       "    .dataframe thead th {\n",
       "        text-align: right;\n",
       "    }\n",
       "</style>\n",
       "<table border=\"1\" class=\"dataframe\">\n",
       "  <thead>\n",
       "    <tr style=\"text-align: right;\">\n",
       "      <th></th>\n",
       "      <th>age</th>\n",
       "      <th>workclass</th>\n",
       "      <th>fnlwgt</th>\n",
       "      <th>education</th>\n",
       "      <th>education-num</th>\n",
       "      <th>marital-status</th>\n",
       "      <th>occupation</th>\n",
       "      <th>relationship</th>\n",
       "      <th>race</th>\n",
       "      <th>sex</th>\n",
       "      <th>capital-gain</th>\n",
       "      <th>capital-loss</th>\n",
       "      <th>hours-per-week</th>\n",
       "      <th>native-country</th>\n",
       "      <th>label</th>\n",
       "    </tr>\n",
       "  </thead>\n",
       "  <tbody>\n",
       "    <tr>\n",
       "      <th>0</th>\n",
       "      <td>39</td>\n",
       "      <td>State-gov</td>\n",
       "      <td>77516</td>\n",
       "      <td>Bachelors</td>\n",
       "      <td>13</td>\n",
       "      <td>Never-married</td>\n",
       "      <td>Adm-clerical</td>\n",
       "      <td>Not-in-family</td>\n",
       "      <td>White</td>\n",
       "      <td>Male</td>\n",
       "      <td>2174</td>\n",
       "      <td>0</td>\n",
       "      <td>40</td>\n",
       "      <td>United-States</td>\n",
       "      <td>&lt;=50K</td>\n",
       "    </tr>\n",
       "    <tr>\n",
       "      <th>1</th>\n",
       "      <td>50</td>\n",
       "      <td>Self-emp-not-inc</td>\n",
       "      <td>83311</td>\n",
       "      <td>Bachelors</td>\n",
       "      <td>13</td>\n",
       "      <td>Married-civ-spouse</td>\n",
       "      <td>Exec-managerial</td>\n",
       "      <td>Husband</td>\n",
       "      <td>White</td>\n",
       "      <td>Male</td>\n",
       "      <td>0</td>\n",
       "      <td>0</td>\n",
       "      <td>13</td>\n",
       "      <td>United-States</td>\n",
       "      <td>&lt;=50K</td>\n",
       "    </tr>\n",
       "    <tr>\n",
       "      <th>2</th>\n",
       "      <td>38</td>\n",
       "      <td>Private</td>\n",
       "      <td>215646</td>\n",
       "      <td>HS-grad</td>\n",
       "      <td>9</td>\n",
       "      <td>Divorced</td>\n",
       "      <td>Handlers-cleaners</td>\n",
       "      <td>Not-in-family</td>\n",
       "      <td>White</td>\n",
       "      <td>Male</td>\n",
       "      <td>0</td>\n",
       "      <td>0</td>\n",
       "      <td>40</td>\n",
       "      <td>United-States</td>\n",
       "      <td>&lt;=50K</td>\n",
       "    </tr>\n",
       "    <tr>\n",
       "      <th>3</th>\n",
       "      <td>53</td>\n",
       "      <td>Private</td>\n",
       "      <td>234721</td>\n",
       "      <td>11th</td>\n",
       "      <td>7</td>\n",
       "      <td>Married-civ-spouse</td>\n",
       "      <td>Handlers-cleaners</td>\n",
       "      <td>Husband</td>\n",
       "      <td>Black</td>\n",
       "      <td>Male</td>\n",
       "      <td>0</td>\n",
       "      <td>0</td>\n",
       "      <td>40</td>\n",
       "      <td>United-States</td>\n",
       "      <td>&lt;=50K</td>\n",
       "    </tr>\n",
       "    <tr>\n",
       "      <th>4</th>\n",
       "      <td>28</td>\n",
       "      <td>Private</td>\n",
       "      <td>338409</td>\n",
       "      <td>Bachelors</td>\n",
       "      <td>13</td>\n",
       "      <td>Married-civ-spouse</td>\n",
       "      <td>Prof-specialty</td>\n",
       "      <td>Wife</td>\n",
       "      <td>Black</td>\n",
       "      <td>Female</td>\n",
       "      <td>0</td>\n",
       "      <td>0</td>\n",
       "      <td>40</td>\n",
       "      <td>Cuba</td>\n",
       "      <td>&lt;=50K</td>\n",
       "    </tr>\n",
       "  </tbody>\n",
       "</table>\n",
       "</div>"
      ],
      "text/plain": [
       "   age         workclass  fnlwgt  education  education-num  \\\n",
       "0   39         State-gov   77516  Bachelors             13   \n",
       "1   50  Self-emp-not-inc   83311  Bachelors             13   \n",
       "2   38           Private  215646    HS-grad              9   \n",
       "3   53           Private  234721       11th              7   \n",
       "4   28           Private  338409  Bachelors             13   \n",
       "\n",
       "       marital-status         occupation   relationship   race     sex  \\\n",
       "0       Never-married       Adm-clerical  Not-in-family  White    Male   \n",
       "1  Married-civ-spouse    Exec-managerial        Husband  White    Male   \n",
       "2            Divorced  Handlers-cleaners  Not-in-family  White    Male   \n",
       "3  Married-civ-spouse  Handlers-cleaners        Husband  Black    Male   \n",
       "4  Married-civ-spouse     Prof-specialty           Wife  Black  Female   \n",
       "\n",
       "   capital-gain  capital-loss  hours-per-week native-country  label  \n",
       "0          2174             0              40  United-States  <=50K  \n",
       "1             0             0              13  United-States  <=50K  \n",
       "2             0             0              40  United-States  <=50K  \n",
       "3             0             0              40  United-States  <=50K  \n",
       "4             0             0              40           Cuba  <=50K  "
      ]
     },
     "execution_count": 3,
     "metadata": {},
     "output_type": "execute_result"
    }
   ],
   "source": [
    "# Preview the train set\n",
    "train_df.head()"
   ]
  },
  {
   "cell_type": "code",
   "execution_count": 4,
   "metadata": {
    "id": "yyrmQLCm0a5V"
   },
   "outputs": [
    {
     "data": {
      "text/html": [
       "<div>\n",
       "<style scoped>\n",
       "    .dataframe tbody tr th:only-of-type {\n",
       "        vertical-align: middle;\n",
       "    }\n",
       "\n",
       "    .dataframe tbody tr th {\n",
       "        vertical-align: top;\n",
       "    }\n",
       "\n",
       "    .dataframe thead th {\n",
       "        text-align: right;\n",
       "    }\n",
       "</style>\n",
       "<table border=\"1\" class=\"dataframe\">\n",
       "  <thead>\n",
       "    <tr style=\"text-align: right;\">\n",
       "      <th></th>\n",
       "      <th>age</th>\n",
       "      <th>workclass</th>\n",
       "      <th>fnlwgt</th>\n",
       "      <th>education</th>\n",
       "      <th>education-num</th>\n",
       "      <th>marital-status</th>\n",
       "      <th>occupation</th>\n",
       "      <th>relationship</th>\n",
       "      <th>race</th>\n",
       "      <th>sex</th>\n",
       "      <th>capital-gain</th>\n",
       "      <th>capital-loss</th>\n",
       "      <th>hours-per-week</th>\n",
       "      <th>native-country</th>\n",
       "      <th>label</th>\n",
       "    </tr>\n",
       "  </thead>\n",
       "  <tbody>\n",
       "    <tr>\n",
       "      <th>26048</th>\n",
       "      <td>30</td>\n",
       "      <td>Private</td>\n",
       "      <td>270886</td>\n",
       "      <td>Some-college</td>\n",
       "      <td>10</td>\n",
       "      <td>Never-married</td>\n",
       "      <td>Other-service</td>\n",
       "      <td>Own-child</td>\n",
       "      <td>White</td>\n",
       "      <td>Female</td>\n",
       "      <td>0</td>\n",
       "      <td>0</td>\n",
       "      <td>40</td>\n",
       "      <td>United-States</td>\n",
       "      <td>&lt;=50K</td>\n",
       "    </tr>\n",
       "    <tr>\n",
       "      <th>26049</th>\n",
       "      <td>21</td>\n",
       "      <td>Private</td>\n",
       "      <td>216129</td>\n",
       "      <td>HS-grad</td>\n",
       "      <td>9</td>\n",
       "      <td>Never-married</td>\n",
       "      <td>Other-service</td>\n",
       "      <td>Own-child</td>\n",
       "      <td>White</td>\n",
       "      <td>Male</td>\n",
       "      <td>0</td>\n",
       "      <td>0</td>\n",
       "      <td>35</td>\n",
       "      <td>United-States</td>\n",
       "      <td>&lt;=50K</td>\n",
       "    </tr>\n",
       "    <tr>\n",
       "      <th>26050</th>\n",
       "      <td>33</td>\n",
       "      <td>Private</td>\n",
       "      <td>189368</td>\n",
       "      <td>Some-college</td>\n",
       "      <td>10</td>\n",
       "      <td>Married-civ-spouse</td>\n",
       "      <td>Transport-moving</td>\n",
       "      <td>Husband</td>\n",
       "      <td>Black</td>\n",
       "      <td>Male</td>\n",
       "      <td>0</td>\n",
       "      <td>0</td>\n",
       "      <td>40</td>\n",
       "      <td>United-States</td>\n",
       "      <td>&gt;50K</td>\n",
       "    </tr>\n",
       "    <tr>\n",
       "      <th>26051</th>\n",
       "      <td>19</td>\n",
       "      <td>?</td>\n",
       "      <td>141418</td>\n",
       "      <td>Some-college</td>\n",
       "      <td>10</td>\n",
       "      <td>Never-married</td>\n",
       "      <td>?</td>\n",
       "      <td>Own-child</td>\n",
       "      <td>White</td>\n",
       "      <td>Male</td>\n",
       "      <td>0</td>\n",
       "      <td>0</td>\n",
       "      <td>15</td>\n",
       "      <td>United-States</td>\n",
       "      <td>&lt;=50K</td>\n",
       "    </tr>\n",
       "    <tr>\n",
       "      <th>26052</th>\n",
       "      <td>19</td>\n",
       "      <td>Private</td>\n",
       "      <td>306225</td>\n",
       "      <td>HS-grad</td>\n",
       "      <td>9</td>\n",
       "      <td>Never-married</td>\n",
       "      <td>Handlers-cleaners</td>\n",
       "      <td>Own-child</td>\n",
       "      <td>White</td>\n",
       "      <td>Male</td>\n",
       "      <td>0</td>\n",
       "      <td>0</td>\n",
       "      <td>25</td>\n",
       "      <td>United-States</td>\n",
       "      <td>&lt;=50K</td>\n",
       "    </tr>\n",
       "  </tbody>\n",
       "</table>\n",
       "</div>"
      ],
      "text/plain": [
       "       age workclass  fnlwgt     education  education-num      marital-status  \\\n",
       "26048   30   Private  270886  Some-college             10       Never-married   \n",
       "26049   21   Private  216129       HS-grad              9       Never-married   \n",
       "26050   33   Private  189368  Some-college             10  Married-civ-spouse   \n",
       "26051   19         ?  141418  Some-college             10       Never-married   \n",
       "26052   19   Private  306225       HS-grad              9       Never-married   \n",
       "\n",
       "              occupation relationship   race     sex  capital-gain  \\\n",
       "26048      Other-service    Own-child  White  Female             0   \n",
       "26049      Other-service    Own-child  White    Male             0   \n",
       "26050   Transport-moving      Husband  Black    Male             0   \n",
       "26051                  ?    Own-child  White    Male             0   \n",
       "26052  Handlers-cleaners    Own-child  White    Male             0   \n",
       "\n",
       "       capital-loss  hours-per-week native-country  label  \n",
       "26048             0              40  United-States  <=50K  \n",
       "26049             0              35  United-States  <=50K  \n",
       "26050             0              40  United-States   >50K  \n",
       "26051             0              15  United-States  <=50K  \n",
       "26052             0              25  United-States  <=50K  "
      ]
     },
     "execution_count": 4,
     "metadata": {},
     "output_type": "execute_result"
    }
   ],
   "source": [
    "# Preview the eval set\n",
    "eval_df.head()"
   ]
  },
  {
   "cell_type": "markdown",
   "metadata": {
    "id": "12_uIoIjr9lv"
   },
   "source": [
    "From these few columns, you can get a first impression of the data. You will notice that most are strings and integers. There are also columns that are mostly zeroes. In the next sections, you will see how to use TFDV to aggregate and process this information so you can inspect it more easily."
   ]
  },
  {
   "cell_type": "markdown",
   "metadata": {},
   "source": [
    "### Adding extra rows\n",
    "\n",
    "To demonstrate how TFDV can detect anomalies later, you will add a few extra rows to the evaluation dataset. These are either malformed or have values that will trigger certain alarms later in this notebook. The code to add these can be seen in the `add_extra_rows()` function of `util.py` found in your Jupyter workspace. You can look at it later and even modify it after you've completed the entire exercise. For now, let's just execute the function and add the rows that we've defined by default."
   ]
  },
  {
   "cell_type": "code",
   "execution_count": 5,
   "metadata": {},
   "outputs": [
    {
     "data": {
      "text/html": [
       "<div>\n",
       "<style scoped>\n",
       "    .dataframe tbody tr th:only-of-type {\n",
       "        vertical-align: middle;\n",
       "    }\n",
       "\n",
       "    .dataframe tbody tr th {\n",
       "        vertical-align: top;\n",
       "    }\n",
       "\n",
       "    .dataframe thead th {\n",
       "        text-align: right;\n",
       "    }\n",
       "</style>\n",
       "<table border=\"1\" class=\"dataframe\">\n",
       "  <thead>\n",
       "    <tr style=\"text-align: right;\">\n",
       "      <th></th>\n",
       "      <th>age</th>\n",
       "      <th>workclass</th>\n",
       "      <th>fnlwgt</th>\n",
       "      <th>education</th>\n",
       "      <th>education-num</th>\n",
       "      <th>marital-status</th>\n",
       "      <th>occupation</th>\n",
       "      <th>relationship</th>\n",
       "      <th>race</th>\n",
       "      <th>sex</th>\n",
       "      <th>capital-gain</th>\n",
       "      <th>capital-loss</th>\n",
       "      <th>hours-per-week</th>\n",
       "      <th>native-country</th>\n",
       "      <th>label</th>\n",
       "    </tr>\n",
       "  </thead>\n",
       "  <tbody>\n",
       "    <tr>\n",
       "      <th>6513</th>\n",
       "      <td>46</td>\n",
       "      <td>NaN</td>\n",
       "      <td>257473</td>\n",
       "      <td>Bachelors</td>\n",
       "      <td>8</td>\n",
       "      <td>Married-civ-spouse</td>\n",
       "      <td>Plumber</td>\n",
       "      <td>Husband</td>\n",
       "      <td>Other</td>\n",
       "      <td>Male</td>\n",
       "      <td>1000</td>\n",
       "      <td>0</td>\n",
       "      <td>41</td>\n",
       "      <td>Australia</td>\n",
       "      <td>&gt;50K</td>\n",
       "    </tr>\n",
       "    <tr>\n",
       "      <th>6514</th>\n",
       "      <td>0</td>\n",
       "      <td>Private</td>\n",
       "      <td>257473</td>\n",
       "      <td>Masters</td>\n",
       "      <td>8</td>\n",
       "      <td>Married-civ-spouse</td>\n",
       "      <td>Adm-clerical</td>\n",
       "      <td>Wife</td>\n",
       "      <td>Asian</td>\n",
       "      <td>Female</td>\n",
       "      <td>0</td>\n",
       "      <td>0</td>\n",
       "      <td>40</td>\n",
       "      <td>Pakistan</td>\n",
       "      <td>&gt;50K</td>\n",
       "    </tr>\n",
       "    <tr>\n",
       "      <th>6515</th>\n",
       "      <td>1000</td>\n",
       "      <td>Private</td>\n",
       "      <td>257473</td>\n",
       "      <td>Masters</td>\n",
       "      <td>8</td>\n",
       "      <td>Married-civ-spouse</td>\n",
       "      <td>Prof-specialty</td>\n",
       "      <td>Husband</td>\n",
       "      <td>Black</td>\n",
       "      <td>Male</td>\n",
       "      <td>0</td>\n",
       "      <td>0</td>\n",
       "      <td>20</td>\n",
       "      <td>Cameroon</td>\n",
       "      <td>&lt;=50K</td>\n",
       "    </tr>\n",
       "    <tr>\n",
       "      <th>6516</th>\n",
       "      <td>25</td>\n",
       "      <td>?</td>\n",
       "      <td>257473</td>\n",
       "      <td>Masters</td>\n",
       "      <td>8</td>\n",
       "      <td>Married-civ-spouse</td>\n",
       "      <td>gamer</td>\n",
       "      <td>Husband</td>\n",
       "      <td>Asian</td>\n",
       "      <td>Female</td>\n",
       "      <td>0</td>\n",
       "      <td>0</td>\n",
       "      <td>50</td>\n",
       "      <td>Mongolia</td>\n",
       "      <td>&lt;=50K</td>\n",
       "    </tr>\n",
       "  </tbody>\n",
       "</table>\n",
       "</div>"
      ],
      "text/plain": [
       "       age workclass  fnlwgt  education  education-num      marital-status  \\\n",
       "6513    46       NaN  257473  Bachelors              8  Married-civ-spouse   \n",
       "6514     0   Private  257473    Masters              8  Married-civ-spouse   \n",
       "6515  1000   Private  257473    Masters              8  Married-civ-spouse   \n",
       "6516    25         ?  257473    Masters              8  Married-civ-spouse   \n",
       "\n",
       "          occupation relationship   race     sex  capital-gain  capital-loss  \\\n",
       "6513         Plumber      Husband  Other    Male          1000             0   \n",
       "6514    Adm-clerical         Wife  Asian  Female             0             0   \n",
       "6515  Prof-specialty      Husband  Black    Male             0             0   \n",
       "6516           gamer      Husband  Asian  Female             0             0   \n",
       "\n",
       "      hours-per-week native-country  label  \n",
       "6513              41      Australia   >50K  \n",
       "6514              40       Pakistan   >50K  \n",
       "6515              20       Cameroon  <=50K  \n",
       "6516              50       Mongolia  <=50K  "
      ]
     },
     "execution_count": 5,
     "metadata": {},
     "output_type": "execute_result"
    }
   ],
   "source": [
    "# add extra rows\n",
    "eval_df = add_extra_rows(eval_df)\n",
    "\n",
    "# preview the added rows\n",
    "eval_df.tail(4)"
   ]
  },
  {
   "cell_type": "markdown",
   "metadata": {
    "id": "Duwwrsvf_9bK"
   },
   "source": [
    "## Generate and visualize training dataset statistics"
   ]
  },
  {
   "cell_type": "markdown",
   "metadata": {
    "id": "5Nm5E1HAgPU0"
   },
   "source": [
    "You can now compute and visualize the statistics of your training dataset. TFDV accepts three input formats: TensorFlow’s TFRecord, Pandas Dataframe, and CSV file. In this exercise, you will feed in the Pandas Dataframes you generated from the train-test split. \n",
    "\n",
    "You can compute your dataset statistics by using the [`generate_statistics_from_dataframe()`](https://www.tensorflow.org/tfx/data_validation/api_docs/python/tfdv/generate_statistics_from_dataframe) method. Under the hood, it distributes the analysis via [Apache Beam](https://beam.apache.org/) which allows it to scale over large datasets.\n",
    "\n",
    "The results returned by this step for numerical and categorical data are summarized in this table:\n",
    "\n",
    "| Numerical Data | Categorical Data   |\n",
    "|:-:|:-:|\n",
    "|Count of data records|Count of data records\n",
    "|% of missing data records|% of missing data records|\n",
    "|Mean, std, min, max|unique records|\n",
    "|% of zero values|Avg string length|\n"
   ]
  },
  {
   "cell_type": "code",
   "execution_count": 6,
   "metadata": {
    "id": "_vTx9Qkk4yGc"
   },
   "outputs": [],
   "source": [
    "# Generate training dataset statistics\n",
    "train_stats = tfdv.generate_statistics_from_dataframe(train_df)"
   ]
  },
  {
   "cell_type": "markdown",
   "metadata": {
    "id": "86nhDglwuilJ"
   },
   "source": [
    "Once you've generated the statistics, you can easily visualize your results with the [`visualize_statistics()`](https://www.tensorflow.org/tfx/data_validation/api_docs/python/tfdv/visualize_statistics) method. This shows a [Facets interface](https://pair-code.github.io/facets/) and is very useful to spot if you have a high amount of missing data or high standard deviation. Run the cell below and explore the different settings in the output interface (e.g. Sort by, Reverse order, Feature search)."
   ]
  },
  {
   "cell_type": "code",
   "execution_count": 7,
   "metadata": {
    "id": "1D1wP3mm5ebW"
   },
   "outputs": [
    {
     "data": {
      "text/html": [
       "<iframe id='facets-iframe' width=\"100%\" height=\"500px\"></iframe>\n",
       "        <script>\n",
       "        facets_iframe = document.getElementById('facets-iframe');\n",
       "        facets_html = '<script src=\"https://cdnjs.cloudflare.com/ajax/libs/webcomponentsjs/1.3.3/webcomponents-lite.js\"><\\/script><link rel=\"import\" href=\"https://raw.githubusercontent.com/PAIR-code/facets/master/facets-dist/facets-jupyter.html\"><facets-overview proto-input=\"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\"></facets-overview>';\n",
       "        facets_iframe.srcdoc = facets_html;\n",
       "         facets_iframe.id = \"\";\n",
       "         setTimeout(() => {\n",
       "           facets_iframe.setAttribute('height', facets_iframe.contentWindow.document.body.offsetHeight + 'px')\n",
       "         }, 1500)\n",
       "         </script>"
      ],
      "text/plain": [
       "<IPython.core.display.HTML object>"
      ]
     },
     "metadata": {},
     "output_type": "display_data"
    }
   ],
   "source": [
    "# Visualize training dataset statistics\n",
    "tfdv.visualize_statistics(train_stats)"
   ]
  },
  {
   "cell_type": "markdown",
   "metadata": {
    "id": "DVQTOBpdgPU0"
   },
   "source": [
    "## Infer data schema"
   ]
  },
  {
   "cell_type": "markdown",
   "metadata": {
    "id": "Ya6ecHE9gPU1"
   },
   "source": [
    "Next step is to create a data schema to describe your train set. Simply put, a schema describes standard characteristics of your data such as column data types and expected data value range. The schema is created on a dataset that you consider as reference, and can be reused to validate other incoming datasets.\n",
    "\n",
    "With the computed statistics, TFDV allows you to automatically generate an initial version of the schema using the [`infer_schema()`](https://www.tensorflow.org/tfx/data_validation/api_docs/python/tfdv/infer_schema) method. This returns a Schema [protocol buffer](https://developers.google.com/protocol-buffers) containing the result. As mentioned in the [TFX paper](http://stevenwhang.com/tfx_paper.pdf) (Section 3.3), the results of the schema inference can be summarized as follows:\n",
    "\n",
    "* The expected type of each feature.\n",
    "* The expected presence of each feature, in terms of a minimum count and fraction of examples that must contain\n",
    "the feature.\n",
    "* The expected valency of the feature in each example, i.e.,\n",
    "minimum and maximum number of values.\n",
    "* The expected domain of a feature, i.e., the small universe of\n",
    "values for a string feature, or range for an integer feature.\n",
    "\n",
    "Run the cell below to infer the training dataset schema."
   ]
  },
  {
   "cell_type": "code",
   "execution_count": 8,
   "metadata": {
    "id": "W9skjM-M44Jz"
   },
   "outputs": [
    {
     "data": {
      "text/html": [
       "<div>\n",
       "<style scoped>\n",
       "    .dataframe tbody tr th:only-of-type {\n",
       "        vertical-align: middle;\n",
       "    }\n",
       "\n",
       "    .dataframe tbody tr th {\n",
       "        vertical-align: top;\n",
       "    }\n",
       "\n",
       "    .dataframe thead th {\n",
       "        text-align: right;\n",
       "    }\n",
       "</style>\n",
       "<table border=\"1\" class=\"dataframe\">\n",
       "  <thead>\n",
       "    <tr style=\"text-align: right;\">\n",
       "      <th></th>\n",
       "      <th>Type</th>\n",
       "      <th>Presence</th>\n",
       "      <th>Valency</th>\n",
       "      <th>Domain</th>\n",
       "    </tr>\n",
       "    <tr>\n",
       "      <th>Feature name</th>\n",
       "      <th></th>\n",
       "      <th></th>\n",
       "      <th></th>\n",
       "      <th></th>\n",
       "    </tr>\n",
       "  </thead>\n",
       "  <tbody>\n",
       "    <tr>\n",
       "      <th>'age'</th>\n",
       "      <td>INT</td>\n",
       "      <td>required</td>\n",
       "      <td></td>\n",
       "      <td>-</td>\n",
       "    </tr>\n",
       "    <tr>\n",
       "      <th>'workclass'</th>\n",
       "      <td>STRING</td>\n",
       "      <td>required</td>\n",
       "      <td></td>\n",
       "      <td>'workclass'</td>\n",
       "    </tr>\n",
       "    <tr>\n",
       "      <th>'fnlwgt'</th>\n",
       "      <td>INT</td>\n",
       "      <td>required</td>\n",
       "      <td></td>\n",
       "      <td>-</td>\n",
       "    </tr>\n",
       "    <tr>\n",
       "      <th>'education'</th>\n",
       "      <td>STRING</td>\n",
       "      <td>required</td>\n",
       "      <td></td>\n",
       "      <td>'education'</td>\n",
       "    </tr>\n",
       "    <tr>\n",
       "      <th>'education-num'</th>\n",
       "      <td>INT</td>\n",
       "      <td>required</td>\n",
       "      <td></td>\n",
       "      <td>-</td>\n",
       "    </tr>\n",
       "    <tr>\n",
       "      <th>'marital-status'</th>\n",
       "      <td>STRING</td>\n",
       "      <td>required</td>\n",
       "      <td></td>\n",
       "      <td>'marital-status'</td>\n",
       "    </tr>\n",
       "    <tr>\n",
       "      <th>'occupation'</th>\n",
       "      <td>STRING</td>\n",
       "      <td>required</td>\n",
       "      <td></td>\n",
       "      <td>'occupation'</td>\n",
       "    </tr>\n",
       "    <tr>\n",
       "      <th>'relationship'</th>\n",
       "      <td>STRING</td>\n",
       "      <td>required</td>\n",
       "      <td></td>\n",
       "      <td>'relationship'</td>\n",
       "    </tr>\n",
       "    <tr>\n",
       "      <th>'race'</th>\n",
       "      <td>STRING</td>\n",
       "      <td>required</td>\n",
       "      <td></td>\n",
       "      <td>'race'</td>\n",
       "    </tr>\n",
       "    <tr>\n",
       "      <th>'sex'</th>\n",
       "      <td>STRING</td>\n",
       "      <td>required</td>\n",
       "      <td></td>\n",
       "      <td>'sex'</td>\n",
       "    </tr>\n",
       "    <tr>\n",
       "      <th>'capital-gain'</th>\n",
       "      <td>INT</td>\n",
       "      <td>required</td>\n",
       "      <td></td>\n",
       "      <td>-</td>\n",
       "    </tr>\n",
       "    <tr>\n",
       "      <th>'capital-loss'</th>\n",
       "      <td>INT</td>\n",
       "      <td>required</td>\n",
       "      <td></td>\n",
       "      <td>-</td>\n",
       "    </tr>\n",
       "    <tr>\n",
       "      <th>'hours-per-week'</th>\n",
       "      <td>INT</td>\n",
       "      <td>required</td>\n",
       "      <td></td>\n",
       "      <td>-</td>\n",
       "    </tr>\n",
       "    <tr>\n",
       "      <th>'native-country'</th>\n",
       "      <td>STRING</td>\n",
       "      <td>required</td>\n",
       "      <td></td>\n",
       "      <td>'native-country'</td>\n",
       "    </tr>\n",
       "    <tr>\n",
       "      <th>'label'</th>\n",
       "      <td>STRING</td>\n",
       "      <td>required</td>\n",
       "      <td></td>\n",
       "      <td>'label'</td>\n",
       "    </tr>\n",
       "  </tbody>\n",
       "</table>\n",
       "</div>"
      ],
      "text/plain": [
       "                    Type  Presence Valency            Domain\n",
       "Feature name                                                \n",
       "'age'                INT  required                         -\n",
       "'workclass'       STRING  required               'workclass'\n",
       "'fnlwgt'             INT  required                         -\n",
       "'education'       STRING  required               'education'\n",
       "'education-num'      INT  required                         -\n",
       "'marital-status'  STRING  required          'marital-status'\n",
       "'occupation'      STRING  required              'occupation'\n",
       "'relationship'    STRING  required            'relationship'\n",
       "'race'            STRING  required                    'race'\n",
       "'sex'             STRING  required                     'sex'\n",
       "'capital-gain'       INT  required                         -\n",
       "'capital-loss'       INT  required                         -\n",
       "'hours-per-week'     INT  required                         -\n",
       "'native-country'  STRING  required          'native-country'\n",
       "'label'           STRING  required                   'label'"
      ]
     },
     "metadata": {},
     "output_type": "display_data"
    },
    {
     "data": {
      "text/html": [
       "<div>\n",
       "<style scoped>\n",
       "    .dataframe tbody tr th:only-of-type {\n",
       "        vertical-align: middle;\n",
       "    }\n",
       "\n",
       "    .dataframe tbody tr th {\n",
       "        vertical-align: top;\n",
       "    }\n",
       "\n",
       "    .dataframe thead th {\n",
       "        text-align: right;\n",
       "    }\n",
       "</style>\n",
       "<table border=\"1\" class=\"dataframe\">\n",
       "  <thead>\n",
       "    <tr style=\"text-align: right;\">\n",
       "      <th></th>\n",
       "      <th>Values</th>\n",
       "    </tr>\n",
       "    <tr>\n",
       "      <th>Domain</th>\n",
       "      <th></th>\n",
       "    </tr>\n",
       "  </thead>\n",
       "  <tbody>\n",
       "    <tr>\n",
       "      <th>'workclass'</th>\n",
       "      <td>'?', 'Federal-gov', 'Local-gov', 'Never-worked', 'Private', 'Self-emp-inc', 'Self-emp-not-inc', 'State-gov', 'Without-pay'</td>\n",
       "    </tr>\n",
       "    <tr>\n",
       "      <th>'education'</th>\n",
       "      <td>'10th', '11th', '12th', '1st-4th', '5th-6th', '7th-8th', '9th', 'Assoc-acdm', 'Assoc-voc', 'Bachelors', 'Doctorate', 'HS-grad', 'Masters', 'Preschool', 'Prof-school', 'Some-college'</td>\n",
       "    </tr>\n",
       "    <tr>\n",
       "      <th>'marital-status'</th>\n",
       "      <td>'Divorced', 'Married-AF-spouse', 'Married-civ-spouse', 'Married-spouse-absent', 'Never-married', 'Separated', 'Widowed'</td>\n",
       "    </tr>\n",
       "    <tr>\n",
       "      <th>'occupation'</th>\n",
       "      <td>'?', 'Adm-clerical', 'Armed-Forces', 'Craft-repair', 'Exec-managerial', 'Farming-fishing', 'Handlers-cleaners', 'Machine-op-inspct', 'Other-service', 'Priv-house-serv', 'Prof-specialty', 'Protective-serv', 'Sales', 'Tech-support', 'Transport-moving'</td>\n",
       "    </tr>\n",
       "    <tr>\n",
       "      <th>'relationship'</th>\n",
       "      <td>'Husband', 'Not-in-family', 'Other-relative', 'Own-child', 'Unmarried', 'Wife'</td>\n",
       "    </tr>\n",
       "    <tr>\n",
       "      <th>'race'</th>\n",
       "      <td>'Amer-Indian-Eskimo', 'Asian-Pac-Islander', 'Black', 'Other', 'White'</td>\n",
       "    </tr>\n",
       "    <tr>\n",
       "      <th>'sex'</th>\n",
       "      <td>'Female', 'Male'</td>\n",
       "    </tr>\n",
       "    <tr>\n",
       "      <th>'native-country'</th>\n",
       "      <td>'?', 'Cambodia', 'Canada', 'China', 'Columbia', 'Cuba', 'Dominican-Republic', 'Ecuador', 'El-Salvador', 'England', 'France', 'Germany', 'Greece', 'Guatemala', 'Haiti', 'Holand-Netherlands', 'Honduras', 'Hong', 'Hungary', 'India', 'Iran', 'Ireland', 'Italy', 'Jamaica', 'Japan', 'Laos', 'Mexico', 'Nicaragua', 'Outlying-US(Guam-USVI-etc)', 'Peru', 'Philippines', 'Poland', 'Portugal', 'Puerto-Rico', 'Scotland', 'South', 'Taiwan', 'Thailand', 'Trinadad&amp;Tobago', 'United-States', 'Vietnam', 'Yugoslavia'</td>\n",
       "    </tr>\n",
       "    <tr>\n",
       "      <th>'label'</th>\n",
       "      <td>'&lt;=50K', '&gt;50K'</td>\n",
       "    </tr>\n",
       "  </tbody>\n",
       "</table>\n",
       "</div>"
      ],
      "text/plain": [
       "                                                                                                                                                                                                                                                                                                                                                                                                                                                                                                                                 Values\n",
       "Domain                                                                                                                                                                                                                                                                                                                                                                                                                                                                                                                                 \n",
       "'workclass'       '?', 'Federal-gov', 'Local-gov', 'Never-worked', 'Private', 'Self-emp-inc', 'Self-emp-not-inc', 'State-gov', 'Without-pay'                                                                                                                                                                                                                                                                                                                                                                                           \n",
       "'education'       '10th', '11th', '12th', '1st-4th', '5th-6th', '7th-8th', '9th', 'Assoc-acdm', 'Assoc-voc', 'Bachelors', 'Doctorate', 'HS-grad', 'Masters', 'Preschool', 'Prof-school', 'Some-college'                                                                                                                                                                                                                                                                                                                                \n",
       "'marital-status'  'Divorced', 'Married-AF-spouse', 'Married-civ-spouse', 'Married-spouse-absent', 'Never-married', 'Separated', 'Widowed'                                                                                                                                                                                                                                                                                                                                                                                              \n",
       "'occupation'      '?', 'Adm-clerical', 'Armed-Forces', 'Craft-repair', 'Exec-managerial', 'Farming-fishing', 'Handlers-cleaners', 'Machine-op-inspct', 'Other-service', 'Priv-house-serv', 'Prof-specialty', 'Protective-serv', 'Sales', 'Tech-support', 'Transport-moving'                                                                                                                                                                                                                                                            \n",
       "'relationship'    'Husband', 'Not-in-family', 'Other-relative', 'Own-child', 'Unmarried', 'Wife'                                                                                                                                                                                                                                                                                                                                                                                                                                       \n",
       "'race'            'Amer-Indian-Eskimo', 'Asian-Pac-Islander', 'Black', 'Other', 'White'                                                                                                                                                                                                                                                                                                                                                                                                                                                \n",
       "'sex'             'Female', 'Male'                                                                                                                                                                                                                                                                                                                                                                                                                                                                                                     \n",
       "'native-country'  '?', 'Cambodia', 'Canada', 'China', 'Columbia', 'Cuba', 'Dominican-Republic', 'Ecuador', 'El-Salvador', 'England', 'France', 'Germany', 'Greece', 'Guatemala', 'Haiti', 'Holand-Netherlands', 'Honduras', 'Hong', 'Hungary', 'India', 'Iran', 'Ireland', 'Italy', 'Jamaica', 'Japan', 'Laos', 'Mexico', 'Nicaragua', 'Outlying-US(Guam-USVI-etc)', 'Peru', 'Philippines', 'Poland', 'Portugal', 'Puerto-Rico', 'Scotland', 'South', 'Taiwan', 'Thailand', 'Trinadad&Tobago', 'United-States', 'Vietnam', 'Yugoslavia'\n",
       "'label'           '<=50K', '>50K'                                                                                                                                                                                                                                                                                                                                                                                                                                                                                                      "
      ]
     },
     "metadata": {},
     "output_type": "display_data"
    }
   ],
   "source": [
    "# Infer schema from the computed statistics.\n",
    "schema = tfdv.infer_schema(statistics=train_stats)\n",
    "\n",
    "# Display the inferred schema\n",
    "tfdv.display_schema(schema)"
   ]
  },
  {
   "cell_type": "markdown",
   "metadata": {
    "id": "5oj_GIprgPU1"
   },
   "source": [
    "## Generate and visualize evaluation dataset statistics"
   ]
  },
  {
   "cell_type": "markdown",
   "metadata": {
    "id": "rTYMPukogPU1"
   },
   "source": [
    "The next step after generating the schema is to now look at the evaluation dataset. You will begin by computing its statistics then compare it with the training statistics. It is important that the numerical and categorical features of the evaluation data belongs roughly to the same range as the training data. Otherwise, you might have distribution skew that will negatively affect the accuracy of your model.\n",
    "\n",
    "TFDV allows you to generate both the training and evaluation dataset statistics side-by-side. You can use the [`visualize_statistics()`](https://www.tensorflow.org/tfx/data_validation/api_docs/python/tfdv/visualize_statistics) function and pass additional parameters to overlay the statistics from both datasets (referenced as left-hand side and right-hand side statistics). Let's see what these parameters are:\n",
    "\n",
    "- `lhs_statistics`: Required parameter. Expects an instance of `DatasetFeatureStatisticsList `.\n",
    "\n",
    "\n",
    "- `rhs_statistics`: Expects an instance of `DatasetFeatureStatisticsList ` to compare with `lhs_statistics`.\n",
    "\n",
    "\n",
    "- `lhs_name`: Name of the `lhs_statistics` dataset.\n",
    "\n",
    "\n",
    "- `rhs_name`: Name of the `rhs_statistics` dataset."
   ]
  },
  {
   "cell_type": "code",
   "execution_count": 9,
   "metadata": {
    "id": "bzZy1x3c6Mi0",
    "scrolled": true
   },
   "outputs": [
    {
     "data": {
      "text/html": [
       "<iframe id='facets-iframe' width=\"100%\" height=\"500px\"></iframe>\n",
       "        <script>\n",
       "        facets_iframe = document.getElementById('facets-iframe');\n",
       "        facets_html = '<script src=\"https://cdnjs.cloudflare.com/ajax/libs/webcomponentsjs/1.3.3/webcomponents-lite.js\"><\\/script><link rel=\"import\" href=\"https://raw.githubusercontent.com/PAIR-code/facets/master/facets-dist/facets-jupyter.html\"><facets-overview proto-input=\"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\"></facets-overview>';\n",
       "        facets_iframe.srcdoc = facets_html;\n",
       "         facets_iframe.id = \"\";\n",
       "         setTimeout(() => {\n",
       "           facets_iframe.setAttribute('height', facets_iframe.contentWindow.document.body.offsetHeight + 'px')\n",
       "         }, 1500)\n",
       "         </script>"
      ],
      "text/plain": [
       "<IPython.core.display.HTML object>"
      ]
     },
     "metadata": {},
     "output_type": "display_data"
    }
   ],
   "source": [
    "# Generate evaluation dataset statistics\n",
    "eval_stats = tfdv.generate_statistics_from_dataframe(eval_df)\n",
    "\n",
    "# Compare training with evaluation\n",
    "tfdv.visualize_statistics(\n",
    "    lhs_statistics=eval_stats, \n",
    "    rhs_statistics=train_stats, \n",
    "    lhs_name='EVAL_DATASET', \n",
    "    rhs_name='TRAIN_DATASET'\n",
    ")"
   ]
  },
  {
   "cell_type": "markdown",
   "metadata": {
    "id": "GODDgoHdgPU2"
   },
   "source": [
    "We encourage you to observe the results generated and toggle the menus to practice manipulating the visualization (e.g. sort by missing/zeroes). You'll notice that TFDV detects the malformed rows we introduced earlier. First, the `min` and `max` values of the `age` row shows `0` and `1000`, respectively. We know that those values do not make sense if we're talking about working adults. Secondly, the `workclass` row in the Categorical Features says that `0.02%` of the data is missing that particular attribute. Let's drop these rows to make the data more clean."
   ]
  },
  {
   "cell_type": "code",
   "execution_count": 10,
   "metadata": {},
   "outputs": [],
   "source": [
    "# filter the age range\n",
    "eval_df = eval_df[eval_df['age'] > 16]\n",
    "eval_df = eval_df[eval_df['age'] < 91]\n",
    "\n",
    "# drop missing values\n",
    "eval_df.dropna(inplace=True)"
   ]
  },
  {
   "cell_type": "markdown",
   "metadata": {},
   "source": [
    "You can then compute the statistics again and see the difference in the results."
   ]
  },
  {
   "cell_type": "code",
   "execution_count": 11,
   "metadata": {},
   "outputs": [
    {
     "data": {
      "text/html": [
       "<iframe id='facets-iframe' width=\"100%\" height=\"500px\"></iframe>\n",
       "        <script>\n",
       "        facets_iframe = document.getElementById('facets-iframe');\n",
       "        facets_html = '<script src=\"https://cdnjs.cloudflare.com/ajax/libs/webcomponentsjs/1.3.3/webcomponents-lite.js\"><\\/script><link rel=\"import\" href=\"https://raw.githubusercontent.com/PAIR-code/facets/master/facets-dist/facets-jupyter.html\"><facets-overview proto-input=\"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\"></facets-overview>';\n",
       "        facets_iframe.srcdoc = facets_html;\n",
       "         facets_iframe.id = \"\";\n",
       "         setTimeout(() => {\n",
       "           facets_iframe.setAttribute('height', facets_iframe.contentWindow.document.body.offsetHeight + 'px')\n",
       "         }, 1500)\n",
       "         </script>"
      ],
      "text/plain": [
       "<IPython.core.display.HTML object>"
      ]
     },
     "metadata": {},
     "output_type": "display_data"
    }
   ],
   "source": [
    "# Generate evaluation dataset statistics\n",
    "eval_stats = tfdv.generate_statistics_from_dataframe(eval_df)\n",
    "\n",
    "# Compare training with evaluation\n",
    "tfdv.visualize_statistics(\n",
    "    lhs_statistics=eval_stats, \n",
    "    rhs_statistics=train_stats, \n",
    "    lhs_name='EVAL_DATASET', \n",
    "    rhs_name='TRAIN_DATASET'\n",
    ")"
   ]
  },
  {
   "cell_type": "markdown",
   "metadata": {
    "id": "J3Lvnr-YgPU2"
   },
   "source": [
    "## Calculate and display evaluation anomalies"
   ]
  },
  {
   "cell_type": "markdown",
   "metadata": {
    "id": "D1D9bNcigPU2"
   },
   "source": [
    "You can use your reference schema to check for anomalies such as new values for a specific feature in the evaluation data. Detected anomalies can either be considered a real error that needs to be cleaned, or depending on your domain knowledge and the specific case, they can be accepted. \n",
    "\n",
    "Let's detect and display evaluation anomalies and see if there are any problems that need to be addressed."
   ]
  },
  {
   "cell_type": "code",
   "execution_count": 12,
   "metadata": {
    "id": "OR5dBqpW6ky2"
   },
   "outputs": [
    {
     "data": {
      "text/html": [
       "<div>\n",
       "<style scoped>\n",
       "    .dataframe tbody tr th:only-of-type {\n",
       "        vertical-align: middle;\n",
       "    }\n",
       "\n",
       "    .dataframe tbody tr th {\n",
       "        vertical-align: top;\n",
       "    }\n",
       "\n",
       "    .dataframe thead th {\n",
       "        text-align: right;\n",
       "    }\n",
       "</style>\n",
       "<table border=\"1\" class=\"dataframe\">\n",
       "  <thead>\n",
       "    <tr style=\"text-align: right;\">\n",
       "      <th></th>\n",
       "      <th>Anomaly short description</th>\n",
       "      <th>Anomaly long description</th>\n",
       "    </tr>\n",
       "    <tr>\n",
       "      <th>Feature name</th>\n",
       "      <th></th>\n",
       "      <th></th>\n",
       "    </tr>\n",
       "  </thead>\n",
       "  <tbody>\n",
       "    <tr>\n",
       "      <th>'native-country'</th>\n",
       "      <td>Unexpected string values</td>\n",
       "      <td>Examples contain values missing from the schema: Mongolia (&lt;1%).</td>\n",
       "    </tr>\n",
       "    <tr>\n",
       "      <th>'occupation'</th>\n",
       "      <td>Unexpected string values</td>\n",
       "      <td>Examples contain values missing from the schema: gamer (&lt;1%).</td>\n",
       "    </tr>\n",
       "    <tr>\n",
       "      <th>'race'</th>\n",
       "      <td>Unexpected string values</td>\n",
       "      <td>Examples contain values missing from the schema: Asian (&lt;1%).</td>\n",
       "    </tr>\n",
       "  </tbody>\n",
       "</table>\n",
       "</div>"
      ],
      "text/plain": [
       "                 Anomaly short description  \\\n",
       "Feature name                                 \n",
       "'native-country'  Unexpected string values   \n",
       "'occupation'      Unexpected string values   \n",
       "'race'            Unexpected string values   \n",
       "\n",
       "                                                           Anomaly long description  \n",
       "Feature name                                                                         \n",
       "'native-country'  Examples contain values missing from the schema: Mongolia (<1%).   \n",
       "'occupation'      Examples contain values missing from the schema: gamer (<1%).      \n",
       "'race'            Examples contain values missing from the schema: Asian (<1%).      "
      ]
     },
     "metadata": {},
     "output_type": "display_data"
    }
   ],
   "source": [
    "# Check evaluation data for errors by validating the evaluation dataset statistics using the reference schema\n",
    "anomalies =  tfdv.validate_statistics(statistics=eval_stats, schema=schema)\n",
    "\n",
    "# Visualize anomalies\n",
    "tfdv.display_anomalies(anomalies)"
   ]
  },
  {
   "cell_type": "markdown",
   "metadata": {
    "id": "HeEvhvgqzLu-"
   },
   "source": [
    "## Revising the Schema\n",
    "\n",
    "As shown in the results above, TFDV is able to detect the remaining irregularities we introduced earlier. The short and long descriptions tell us what were detected. As expected, there are string values for `race`, `native-country` and `occupation` that are not found in the domain of the training set schema (you might see a different result if the shuffling of the datasets was applied). What you decide to do about the anomalies depend on your domain knowledge of the data. If an anomaly indicates a data error, then the underlying data should be fixed. Otherwise, you can update the schema to include the values in the evaluation dataset.\n",
    "\n",
    "TFDV provides a set of utility methods and parameters that you can use for revising the inferred schema. This [reference](https://www.tensorflow.org/tfx/data_validation/anomalies) lists down the type of anomalies and the parameters that you can edit but we'll focus only on a couple here.\n",
    "\n",
    "- You can relax the minimum fraction of values that must come from the domain of a particular feature (as described by `ENUM_TYPE_UNEXPECTED_STRING_VALUES` in the [reference](https://www.tensorflow.org/tfx/data_validation/anomalies)):\n",
    "\n",
    "```python\n",
    "tfdv.get_feature(schema, 'feature_column_name').distribution_constraints.min_domain_mass = <float: 0.0 to 1.0>\n",
    "```\n",
    "\n",
    "- You can add a new value to the domain of a particular feature:\n",
    "\n",
    "```python\n",
    "tfdv.get_domain(schema, 'feature_column_name').value.append('string')\n",
    "```\n",
    "\n",
    "Let's use these in the next section."
   ]
  },
  {
   "cell_type": "markdown",
   "metadata": {
    "id": "HKECg6Lf6-ks"
   },
   "source": [
    "## Fix anomalies in the schema\n",
    "\n",
    "Let's say that we want to accept the string anomalies reported as valid. If you want to tolerate a fraction of missing values from the evaluation dataset, you can do it like this:"
   ]
  },
  {
   "cell_type": "code",
   "execution_count": 13,
   "metadata": {},
   "outputs": [],
   "source": [
    "# Relax the minimum fraction of values that must come from the domain for the feature `native-country`\n",
    "country_feature = tfdv.get_feature(schema, 'native-country')\n",
    "country_feature.distribution_constraints.min_domain_mass = 0.9\n",
    "\n",
    "# Relax the minimum fraction of values that must come from the domain for the feature `occupation`\n",
    "occupation_feature = tfdv.get_feature(schema, 'occupation')\n",
    "occupation_feature.distribution_constraints.min_domain_mass = 0.9"
   ]
  },
  {
   "cell_type": "markdown",
   "metadata": {},
   "source": [
    "If you want to be rigid and instead add only valid values to the domain, you can do it like this:"
   ]
  },
  {
   "cell_type": "code",
   "execution_count": 14,
   "metadata": {
    "id": "hTCWS04p6lDh"
   },
   "outputs": [],
   "source": [
    "# Add new value to the domain of the feature `race`\n",
    "race_domain = tfdv.get_domain(schema, 'race')\n",
    "race_domain.value.append('Asian')"
   ]
  },
  {
   "cell_type": "markdown",
   "metadata": {},
   "source": [
    "In addition, you can also restrict the range of a numerical feature. This will let you know of invalid values without having to inspect it visually (e.g. the invalid `age` values earlier)."
   ]
  },
  {
   "cell_type": "code",
   "execution_count": 15,
   "metadata": {},
   "outputs": [
    {
     "data": {
      "text/html": [
       "<div>\n",
       "<style scoped>\n",
       "    .dataframe tbody tr th:only-of-type {\n",
       "        vertical-align: middle;\n",
       "    }\n",
       "\n",
       "    .dataframe tbody tr th {\n",
       "        vertical-align: top;\n",
       "    }\n",
       "\n",
       "    .dataframe thead th {\n",
       "        text-align: right;\n",
       "    }\n",
       "</style>\n",
       "<table border=\"1\" class=\"dataframe\">\n",
       "  <thead>\n",
       "    <tr style=\"text-align: right;\">\n",
       "      <th></th>\n",
       "      <th>Type</th>\n",
       "      <th>Presence</th>\n",
       "      <th>Valency</th>\n",
       "      <th>Domain</th>\n",
       "    </tr>\n",
       "    <tr>\n",
       "      <th>Feature name</th>\n",
       "      <th></th>\n",
       "      <th></th>\n",
       "      <th></th>\n",
       "      <th></th>\n",
       "    </tr>\n",
       "  </thead>\n",
       "  <tbody>\n",
       "    <tr>\n",
       "      <th>'age'</th>\n",
       "      <td>INT</td>\n",
       "      <td>required</td>\n",
       "      <td></td>\n",
       "      <td>[17,90]</td>\n",
       "    </tr>\n",
       "    <tr>\n",
       "      <th>'workclass'</th>\n",
       "      <td>STRING</td>\n",
       "      <td>required</td>\n",
       "      <td></td>\n",
       "      <td>'workclass'</td>\n",
       "    </tr>\n",
       "    <tr>\n",
       "      <th>'fnlwgt'</th>\n",
       "      <td>INT</td>\n",
       "      <td>required</td>\n",
       "      <td></td>\n",
       "      <td>-</td>\n",
       "    </tr>\n",
       "    <tr>\n",
       "      <th>'education'</th>\n",
       "      <td>STRING</td>\n",
       "      <td>required</td>\n",
       "      <td></td>\n",
       "      <td>'education'</td>\n",
       "    </tr>\n",
       "    <tr>\n",
       "      <th>'education-num'</th>\n",
       "      <td>INT</td>\n",
       "      <td>required</td>\n",
       "      <td></td>\n",
       "      <td>-</td>\n",
       "    </tr>\n",
       "    <tr>\n",
       "      <th>'marital-status'</th>\n",
       "      <td>STRING</td>\n",
       "      <td>required</td>\n",
       "      <td></td>\n",
       "      <td>'marital-status'</td>\n",
       "    </tr>\n",
       "    <tr>\n",
       "      <th>'occupation'</th>\n",
       "      <td>STRING</td>\n",
       "      <td>required</td>\n",
       "      <td></td>\n",
       "      <td>'occupation'</td>\n",
       "    </tr>\n",
       "    <tr>\n",
       "      <th>'relationship'</th>\n",
       "      <td>STRING</td>\n",
       "      <td>required</td>\n",
       "      <td></td>\n",
       "      <td>'relationship'</td>\n",
       "    </tr>\n",
       "    <tr>\n",
       "      <th>'race'</th>\n",
       "      <td>STRING</td>\n",
       "      <td>required</td>\n",
       "      <td></td>\n",
       "      <td>'race'</td>\n",
       "    </tr>\n",
       "    <tr>\n",
       "      <th>'sex'</th>\n",
       "      <td>STRING</td>\n",
       "      <td>required</td>\n",
       "      <td></td>\n",
       "      <td>'sex'</td>\n",
       "    </tr>\n",
       "    <tr>\n",
       "      <th>'capital-gain'</th>\n",
       "      <td>INT</td>\n",
       "      <td>required</td>\n",
       "      <td></td>\n",
       "      <td>-</td>\n",
       "    </tr>\n",
       "    <tr>\n",
       "      <th>'capital-loss'</th>\n",
       "      <td>INT</td>\n",
       "      <td>required</td>\n",
       "      <td></td>\n",
       "      <td>-</td>\n",
       "    </tr>\n",
       "    <tr>\n",
       "      <th>'hours-per-week'</th>\n",
       "      <td>INT</td>\n",
       "      <td>required</td>\n",
       "      <td></td>\n",
       "      <td>-</td>\n",
       "    </tr>\n",
       "    <tr>\n",
       "      <th>'native-country'</th>\n",
       "      <td>STRING</td>\n",
       "      <td>required</td>\n",
       "      <td></td>\n",
       "      <td>'native-country'</td>\n",
       "    </tr>\n",
       "    <tr>\n",
       "      <th>'label'</th>\n",
       "      <td>STRING</td>\n",
       "      <td>required</td>\n",
       "      <td></td>\n",
       "      <td>'label'</td>\n",
       "    </tr>\n",
       "  </tbody>\n",
       "</table>\n",
       "</div>"
      ],
      "text/plain": [
       "                    Type  Presence Valency            Domain\n",
       "Feature name                                                \n",
       "'age'             INT     required          [17,90]         \n",
       "'workclass'       STRING  required          'workclass'     \n",
       "'fnlwgt'          INT     required          -               \n",
       "'education'       STRING  required          'education'     \n",
       "'education-num'   INT     required          -               \n",
       "'marital-status'  STRING  required          'marital-status'\n",
       "'occupation'      STRING  required          'occupation'    \n",
       "'relationship'    STRING  required          'relationship'  \n",
       "'race'            STRING  required          'race'          \n",
       "'sex'             STRING  required          'sex'           \n",
       "'capital-gain'    INT     required          -               \n",
       "'capital-loss'    INT     required          -               \n",
       "'hours-per-week'  INT     required          -               \n",
       "'native-country'  STRING  required          'native-country'\n",
       "'label'           STRING  required          'label'         "
      ]
     },
     "metadata": {},
     "output_type": "display_data"
    },
    {
     "data": {
      "text/html": [
       "<div>\n",
       "<style scoped>\n",
       "    .dataframe tbody tr th:only-of-type {\n",
       "        vertical-align: middle;\n",
       "    }\n",
       "\n",
       "    .dataframe tbody tr th {\n",
       "        vertical-align: top;\n",
       "    }\n",
       "\n",
       "    .dataframe thead th {\n",
       "        text-align: right;\n",
       "    }\n",
       "</style>\n",
       "<table border=\"1\" class=\"dataframe\">\n",
       "  <thead>\n",
       "    <tr style=\"text-align: right;\">\n",
       "      <th></th>\n",
       "      <th>Values</th>\n",
       "    </tr>\n",
       "    <tr>\n",
       "      <th>Domain</th>\n",
       "      <th></th>\n",
       "    </tr>\n",
       "  </thead>\n",
       "  <tbody>\n",
       "    <tr>\n",
       "      <th>'workclass'</th>\n",
       "      <td>'?', 'Federal-gov', 'Local-gov', 'Never-worked', 'Private', 'Self-emp-inc', 'Self-emp-not-inc', 'State-gov', 'Without-pay'</td>\n",
       "    </tr>\n",
       "    <tr>\n",
       "      <th>'education'</th>\n",
       "      <td>'10th', '11th', '12th', '1st-4th', '5th-6th', '7th-8th', '9th', 'Assoc-acdm', 'Assoc-voc', 'Bachelors', 'Doctorate', 'HS-grad', 'Masters', 'Preschool', 'Prof-school', 'Some-college'</td>\n",
       "    </tr>\n",
       "    <tr>\n",
       "      <th>'marital-status'</th>\n",
       "      <td>'Divorced', 'Married-AF-spouse', 'Married-civ-spouse', 'Married-spouse-absent', 'Never-married', 'Separated', 'Widowed'</td>\n",
       "    </tr>\n",
       "    <tr>\n",
       "      <th>'occupation'</th>\n",
       "      <td>'?', 'Adm-clerical', 'Armed-Forces', 'Craft-repair', 'Exec-managerial', 'Farming-fishing', 'Handlers-cleaners', 'Machine-op-inspct', 'Other-service', 'Priv-house-serv', 'Prof-specialty', 'Protective-serv', 'Sales', 'Tech-support', 'Transport-moving'</td>\n",
       "    </tr>\n",
       "    <tr>\n",
       "      <th>'relationship'</th>\n",
       "      <td>'Husband', 'Not-in-family', 'Other-relative', 'Own-child', 'Unmarried', 'Wife'</td>\n",
       "    </tr>\n",
       "    <tr>\n",
       "      <th>'race'</th>\n",
       "      <td>'Amer-Indian-Eskimo', 'Asian-Pac-Islander', 'Black', 'Other', 'White', 'Asian'</td>\n",
       "    </tr>\n",
       "    <tr>\n",
       "      <th>'sex'</th>\n",
       "      <td>'Female', 'Male'</td>\n",
       "    </tr>\n",
       "    <tr>\n",
       "      <th>'native-country'</th>\n",
       "      <td>'?', 'Cambodia', 'Canada', 'China', 'Columbia', 'Cuba', 'Dominican-Republic', 'Ecuador', 'El-Salvador', 'England', 'France', 'Germany', 'Greece', 'Guatemala', 'Haiti', 'Holand-Netherlands', 'Honduras', 'Hong', 'Hungary', 'India', 'Iran', 'Ireland', 'Italy', 'Jamaica', 'Japan', 'Laos', 'Mexico', 'Nicaragua', 'Outlying-US(Guam-USVI-etc)', 'Peru', 'Philippines', 'Poland', 'Portugal', 'Puerto-Rico', 'Scotland', 'South', 'Taiwan', 'Thailand', 'Trinadad&amp;Tobago', 'United-States', 'Vietnam', 'Yugoslavia'</td>\n",
       "    </tr>\n",
       "    <tr>\n",
       "      <th>'label'</th>\n",
       "      <td>'&lt;=50K', '&gt;50K'</td>\n",
       "    </tr>\n",
       "  </tbody>\n",
       "</table>\n",
       "</div>"
      ],
      "text/plain": [
       "                                                                                                                                                                                                                                                                                                                                                                                                                                                                                                                                 Values\n",
       "Domain                                                                                                                                                                                                                                                                                                                                                                                                                                                                                                                                 \n",
       "'workclass'       '?', 'Federal-gov', 'Local-gov', 'Never-worked', 'Private', 'Self-emp-inc', 'Self-emp-not-inc', 'State-gov', 'Without-pay'                                                                                                                                                                                                                                                                                                                                                                                           \n",
       "'education'       '10th', '11th', '12th', '1st-4th', '5th-6th', '7th-8th', '9th', 'Assoc-acdm', 'Assoc-voc', 'Bachelors', 'Doctorate', 'HS-grad', 'Masters', 'Preschool', 'Prof-school', 'Some-college'                                                                                                                                                                                                                                                                                                                                \n",
       "'marital-status'  'Divorced', 'Married-AF-spouse', 'Married-civ-spouse', 'Married-spouse-absent', 'Never-married', 'Separated', 'Widowed'                                                                                                                                                                                                                                                                                                                                                                                              \n",
       "'occupation'      '?', 'Adm-clerical', 'Armed-Forces', 'Craft-repair', 'Exec-managerial', 'Farming-fishing', 'Handlers-cleaners', 'Machine-op-inspct', 'Other-service', 'Priv-house-serv', 'Prof-specialty', 'Protective-serv', 'Sales', 'Tech-support', 'Transport-moving'                                                                                                                                                                                                                                                            \n",
       "'relationship'    'Husband', 'Not-in-family', 'Other-relative', 'Own-child', 'Unmarried', 'Wife'                                                                                                                                                                                                                                                                                                                                                                                                                                       \n",
       "'race'            'Amer-Indian-Eskimo', 'Asian-Pac-Islander', 'Black', 'Other', 'White', 'Asian'                                                                                                                                                                                                                                                                                                                                                                                                                                       \n",
       "'sex'             'Female', 'Male'                                                                                                                                                                                                                                                                                                                                                                                                                                                                                                     \n",
       "'native-country'  '?', 'Cambodia', 'Canada', 'China', 'Columbia', 'Cuba', 'Dominican-Republic', 'Ecuador', 'El-Salvador', 'England', 'France', 'Germany', 'Greece', 'Guatemala', 'Haiti', 'Holand-Netherlands', 'Honduras', 'Hong', 'Hungary', 'India', 'Iran', 'Ireland', 'Italy', 'Jamaica', 'Japan', 'Laos', 'Mexico', 'Nicaragua', 'Outlying-US(Guam-USVI-etc)', 'Peru', 'Philippines', 'Poland', 'Portugal', 'Puerto-Rico', 'Scotland', 'South', 'Taiwan', 'Thailand', 'Trinadad&Tobago', 'United-States', 'Vietnam', 'Yugoslavia'\n",
       "'label'           '<=50K', '>50K'                                                                                                                                                                                                                                                                                                                                                                                                                                                                                                      "
      ]
     },
     "metadata": {},
     "output_type": "display_data"
    }
   ],
   "source": [
    "# Restrict the range of the `age` feature\n",
    "tfdv.set_domain(schema, 'age', schema_pb2.IntDomain(name='age', min=17, max=90))\n",
    "\n",
    "# Display the modified schema. Notice the `Domain` column of `age`.\n",
    "tfdv.display_schema(schema)"
   ]
  },
  {
   "cell_type": "markdown",
   "metadata": {},
   "source": [
    "With these revisions, running the validation should now show no anomalies."
   ]
  },
  {
   "cell_type": "code",
   "execution_count": 16,
   "metadata": {},
   "outputs": [
    {
     "data": {
      "text/html": [
       "<h4 style=\"color:green;\">No anomalies found.</h4>"
      ],
      "text/plain": [
       "<IPython.core.display.HTML object>"
      ]
     },
     "metadata": {},
     "output_type": "display_data"
    }
   ],
   "source": [
    "# Validate eval stats after updating the schema \n",
    "updated_anomalies = tfdv.validate_statistics(eval_stats, schema)\n",
    "tfdv.display_anomalies(updated_anomalies)"
   ]
  },
  {
   "cell_type": "markdown",
   "metadata": {},
   "source": [
    "## Examining dataset slices\n",
    "\n",
    "TFDV also allows you to analyze specific slices of your dataset. This is particularly useful if you want to inspect if a feature type is well-represented in your dataset. Let's walk through an example where we want to compare the statistics for male and female participants."
   ]
  },
  {
   "cell_type": "markdown",
   "metadata": {},
   "source": [
    "First, you will use the [`get_feature_value_slicer`](https://github.com/tensorflow/data-validation/blob/master/tensorflow_data_validation/utils/slicing_util.py#L48) method from the `slicing_util` to get the features you want to examine. You can specify that by passing a dictionary to the `features` argument. If you want to get the entire domain of a feature, then you can map the feature name with `None` as shown below. This means that you will get slices for both `Male` and `Female` entries. This returns a function that can be used to extract the said feature slice."
   ]
  },
  {
   "cell_type": "code",
   "execution_count": 18,
   "metadata": {},
   "outputs": [],
   "source": [
    "from tensorflow_data_validation.utils import slicing_util\n",
    "\n",
    "slice_fn = slicing_util.get_feature_value_slicer(features={'sex': None})"
   ]
  },
  {
   "cell_type": "markdown",
   "metadata": {},
   "source": [
    "With the slice function ready, you can now generate the statistics. You need to tell TFDV that you need statistics for the features you set and you can do that through the `slice_functions` argument of [`tfdv.StatsOptions`](https://www.tensorflow.org/tfx/data_validation/api_docs/python/tfdv/StatsOptions). Let's prepare that in the cell below. Notice that you also need to pass in the schema."
   ]
  },
  {
   "cell_type": "code",
   "execution_count": 19,
   "metadata": {},
   "outputs": [],
   "source": [
    "# Declare stats options\n",
    "slice_stats_options = tfdv.StatsOptions(schema=schema,\n",
    "                                        slice_functions=[slice_fn],\n",
    "                                        infer_type_from_schema=True)"
   ]
  },
  {
   "cell_type": "markdown",
   "metadata": {},
   "source": [
    "You will then pass these options to the `generate_statistics_from_csv()` method. As of writing, generating sliced statistics only works for CSVs so you will need to convert the Pandas dataframe to a CSV. Passing the `slice_stats_options` to `generate_statistics_from_dataframe()` will not produce the expected results."
   ]
  },
  {
   "cell_type": "code",
   "execution_count": 20,
   "metadata": {},
   "outputs": [
    {
     "data": {
      "application/javascript": [
       "\n",
       "        if (typeof window.interactive_beam_jquery == 'undefined') {\n",
       "          var jqueryScript = document.createElement('script');\n",
       "          jqueryScript.src = 'https://code.jquery.com/jquery-3.4.1.slim.min.js';\n",
       "          jqueryScript.type = 'text/javascript';\n",
       "          jqueryScript.onload = function() {\n",
       "            var datatableScript = document.createElement('script');\n",
       "            datatableScript.src = 'https://cdn.datatables.net/1.10.20/js/jquery.dataTables.min.js';\n",
       "            datatableScript.type = 'text/javascript';\n",
       "            datatableScript.onload = function() {\n",
       "              window.interactive_beam_jquery = jQuery.noConflict(true);\n",
       "              window.interactive_beam_jquery(document).ready(function($){\n",
       "                \n",
       "              });\n",
       "            }\n",
       "            document.head.appendChild(datatableScript);\n",
       "          };\n",
       "          document.head.appendChild(jqueryScript);\n",
       "        } else {\n",
       "          window.interactive_beam_jquery(document).ready(function($){\n",
       "            \n",
       "          });\n",
       "        }"
      ]
     },
     "metadata": {},
     "output_type": "display_data"
    },
    {
     "name": "stdout",
     "output_type": "stream",
     "text": [
      "WARNING:tensorflow:From /opt/conda/lib/python3.8/site-packages/tensorflow_data_validation/utils/stats_util.py:229: tf_record_iterator (from tensorflow.python.lib.io.tf_record) is deprecated and will be removed in a future version.\n",
      "Instructions for updating:\n",
      "Use eager execution and: \n",
      "`tf.data.TFRecordDataset(path)`\n"
     ]
    },
    {
     "name": "stderr",
     "output_type": "stream",
     "text": [
      "WARNING:tensorflow:From /opt/conda/lib/python3.8/site-packages/tensorflow_data_validation/utils/stats_util.py:229: tf_record_iterator (from tensorflow.python.lib.io.tf_record) is deprecated and will be removed in a future version.\n",
      "Instructions for updating:\n",
      "Use eager execution and: \n",
      "`tf.data.TFRecordDataset(path)`\n"
     ]
    }
   ],
   "source": [
    "# Convert dataframe to CSV since `slice_functions` works only with `tfdv.generate_statistics_from_csv`\n",
    "CSV_PATH = 'slice_sample.csv'\n",
    "train_df.to_csv(CSV_PATH)\n",
    "\n",
    "# Calculate statistics for the sliced dataset\n",
    "sliced_stats = tfdv.generate_statistics_from_csv(CSV_PATH, stats_options=slice_stats_options)"
   ]
  },
  {
   "cell_type": "markdown",
   "metadata": {},
   "source": [
    "With that, you now have the statistics for the set slice. These are packed into a `DatasetFeatureStatisticsList` protocol buffer. You can see the dataset names below. The first element in the list (i.e. index=0) is named `All_Examples` which just contains the statistics for the entire dataset. The next two elements (i.e. named `sex_Male` and `sex_Female`) are the datasets that contain the stats for the slices. It is important to note that these datasets are of the type: `DatasetFeatureStatistics`. You will see why this is important after the cell below."
   ]
  },
  {
   "cell_type": "code",
   "execution_count": 21,
   "metadata": {},
   "outputs": [
    {
     "name": "stdout",
     "output_type": "stream",
     "text": [
      "Datasets generated: ['All Examples', 'sex_Male', 'sex_Female']\n",
      "Type of sliced_stats elements: <class 'tensorflow_metadata.proto.v0.statistics_pb2.DatasetFeatureStatistics'>\n"
     ]
    }
   ],
   "source": [
    "print(f'Datasets generated: {[sliced.name for sliced in sliced_stats.datasets]}')\n",
    "\n",
    "print(f'Type of sliced_stats elements: {type(sliced_stats.datasets[0])}')"
   ]
  },
  {
   "cell_type": "markdown",
   "metadata": {},
   "source": [
    "You can then visualize the statistics as before to examine the slices. An important caveat is `visualize_statistics()` accepts a `DatasetFeatureStatisticsList` type instead of `DatasetFeatureStatistics`. Thus, at least for this version of TFDV, you will need to convert it to the correct type."
   ]
  },
  {
   "cell_type": "code",
   "execution_count": 22,
   "metadata": {},
   "outputs": [
    {
     "data": {
      "text/html": [
       "<iframe id='facets-iframe' width=\"100%\" height=\"500px\"></iframe>\n",
       "        <script>\n",
       "        facets_iframe = document.getElementById('facets-iframe');\n",
       "        facets_html = '<script src=\"https://cdnjs.cloudflare.com/ajax/libs/webcomponentsjs/1.3.3/webcomponents-lite.js\"><\\/script><link rel=\"import\" href=\"https://raw.githubusercontent.com/PAIR-code/facets/master/facets-dist/facets-jupyter.html\"><facets-overview proto-input=\"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\"></facets-overview>';\n",
       "        facets_iframe.srcdoc = facets_html;\n",
       "         facets_iframe.id = \"\";\n",
       "         setTimeout(() => {\n",
       "           facets_iframe.setAttribute('height', facets_iframe.contentWindow.document.body.offsetHeight + 'px')\n",
       "         }, 1500)\n",
       "         </script>"
      ],
      "text/plain": [
       "<IPython.core.display.HTML object>"
      ]
     },
     "metadata": {},
     "output_type": "display_data"
    }
   ],
   "source": [
    "from tensorflow_metadata.proto.v0.statistics_pb2 import DatasetFeatureStatisticsList\n",
    "\n",
    "# Convert `Male` statistics (index=1) to the correct type and get the dataset name\n",
    "male_stats_list = DatasetFeatureStatisticsList()\n",
    "male_stats_list.datasets.extend([sliced_stats.datasets[1]])\n",
    "male_stats_name = sliced_stats.datasets[1].name\n",
    "\n",
    "# Convert `Female` statistics (index=2) to the correct type and get the dataset name\n",
    "female_stats_list = DatasetFeatureStatisticsList()\n",
    "female_stats_list.datasets.extend([sliced_stats.datasets[2]])\n",
    "female_stats_name = sliced_stats.datasets[2].name\n",
    "\n",
    "# Visualize the two slices side by side\n",
    "tfdv.visualize_statistics(\n",
    "    lhs_statistics=male_stats_list,\n",
    "    rhs_statistics=female_stats_list,\n",
    "    lhs_name=male_stats_name,\n",
    "    rhs_name=female_stats_name\n",
    ")"
   ]
  },
  {
   "cell_type": "markdown",
   "metadata": {},
   "source": [
    "You should now see the visualization of the two slices and you can compare how they are represented in the dataset. \n",
    "\n",
    "We encourage you to go back to the beginning of this section and try different slices. Here are other ways you can explore:\n",
    "\n",
    "* If you want to be more specific, then you can map the specific value to the feature name. For example, if you want just `Male`, then you can declare it as `features={'sex': [b'Male']}`. Notice that the string literal needs to be passed in as bytes with the `b'` prefix.\n",
    "\n",
    "* You can also pass in several features if you want. For example, if you want to slice through both the `sex` and `race` features, then you can do `features={'sex': None, 'race': None}`.\n",
    "\n",
    "You might find it cumbersome or inefficient to redo the whole process for a particular slice. For that, you can make helper functions to streamline the type conversions and you will see one implementation in this week's assignment."
   ]
  },
  {
   "cell_type": "markdown",
   "metadata": {
    "id": "YY812jDDgPU3"
   },
   "source": [
    "## Wrap up\n",
    "\n",
    "This exercise demonstrated how you would use Tensorflow Data Validation in a machine learning project.\n",
    "\n",
    "* It allows you to scale the computation of statistics over datasets.\n",
    "\n",
    "* You can infer the schema of a given dataset and revise it based on your domain knowledge. \n",
    "\n",
    "* You can inspect discrepancies between the training and evaluation datasets by visualizing the statistics and detecting anomalies.\n",
    "\n",
    "* You can analyze specific slices of your dataset.\n",
    "\n",
    "You can consult this notebook in this week's programming assignment as well as these additional resources:\n",
    "\n",
    "* [TFDV Guide](https://www.tensorflow.org/tfx/data_validation/get_started) \n",
    "* [TFDV blog post](https://blog.tensorflow.org/2018/09/introducing-tensorflow-data-validation.html)\n",
    "* [Tensorflow Official Tutorial](https://colab.research.google.com/github/tensorflow/tfx/blob/master/docs/tutorials/data_validation/tfdv_basic.ipynb#scrollTo=mPt5BHTwy_0F)\n",
    "* [API Docs](https://www.tensorflow.org/tfx/data_validation/api_docs/python/tfdv)"
   ]
  }
 ],
 "metadata": {
  "colab": {
   "collapsed_sections": [],
   "name": "C2_W1_Lab_1_TFDV_Exercise.ipynb",
   "provenance": []
  },
  "kernelspec": {
   "display_name": "Python 3",
   "language": "python",
   "name": "python3"
  },
  "language_info": {
   "codemirror_mode": {
    "name": "ipython",
    "version": 3
   },
   "file_extension": ".py",
   "mimetype": "text/x-python",
   "name": "python",
   "nbconvert_exporter": "python",
   "pygments_lexer": "ipython3",
   "version": "3.8.8"
  }
 },
 "nbformat": 4,
 "nbformat_minor": 1
}
